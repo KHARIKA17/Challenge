{
  "nbformat": 4,
  "nbformat_minor": 0,
  "metadata": {
    "colab": {
      "name": "Untitled0.ipynb",
      "provenance": [],
      "collapsed_sections": [],
      "toc_visible": true,
      "authorship_tag": "ABX9TyMxJESg7kqXVrBflz3rqzBH",
      "include_colab_link": true
    },
    "kernelspec": {
      "name": "python3",
      "display_name": "Python 3"
    }
  },
  "cells": [
    {
      "cell_type": "markdown",
      "metadata": {
        "id": "view-in-github",
        "colab_type": "text"
      },
      "source": [
        "<a href=\"https://colab.research.google.com/github/KHARIKA17/Challenge/blob/master/Untitled0.ipynb\" target=\"_parent\"><img src=\"https://colab.research.google.com/assets/colab-badge.svg\" alt=\"Open In Colab\"/></a>"
      ]
    },
    {
      "cell_type": "code",
      "metadata": {
        "colab": {
          "base_uri": "https://localhost:8080/"
        },
        "id": "sVcjcRAg6sE5",
        "outputId": "8bd3a47a-bfaa-4dda-c209-d86a1848f918"
      },
      "source": [
        "!pip install apache-flink "
      ],
      "execution_count": null,
      "outputs": [
        {
          "output_type": "stream",
          "text": [
            "Requirement already satisfied: apache-flink in /usr/local/lib/python3.6/dist-packages (1.12.1)\n",
            "Requirement already satisfied: pandas<1,>=0.25.2; python_full_version >= \"3.5.3\" in /usr/local/lib/python3.6/dist-packages (from apache-flink) (0.25.3)\n",
            "Requirement already satisfied: apache-beam==2.23.0 in /usr/local/lib/python3.6/dist-packages (from apache-flink) (2.23.0)\n",
            "Requirement already satisfied: python-dateutil==2.8.0 in /usr/local/lib/python3.6/dist-packages (from apache-flink) (2.8.0)\n",
            "Requirement already satisfied: py4j==0.10.8.1 in /usr/local/lib/python3.6/dist-packages (from apache-flink) (0.10.8.1)\n",
            "Requirement already satisfied: pytz>=2018.3 in /usr/local/lib/python3.6/dist-packages (from apache-flink) (2018.9)\n",
            "Requirement already satisfied: avro-python3<=1.9.1,>=1.8.1 in /usr/local/lib/python3.6/dist-packages (from apache-flink) (1.9.1)\n",
            "Requirement already satisfied: jsonpickle==1.2 in /usr/local/lib/python3.6/dist-packages (from apache-flink) (1.2)\n",
            "Requirement already satisfied: cloudpickle==1.2.2 in /usr/local/lib/python3.6/dist-packages (from apache-flink) (1.2.2)\n",
            "Requirement already satisfied: pyarrow<0.18.0,>=0.15.1 in /usr/local/lib/python3.6/dist-packages (from apache-flink) (0.17.1)\n",
            "Requirement already satisfied: numpy>=1.13.3 in /usr/local/lib/python3.6/dist-packages (from pandas<1,>=0.25.2; python_full_version >= \"3.5.3\"->apache-flink) (1.19.5)\n",
            "Requirement already satisfied: future<1.0.0,>=0.18.2 in /usr/local/lib/python3.6/dist-packages (from apache-beam==2.23.0->apache-flink) (0.18.2)\n",
            "Requirement already satisfied: fastavro<0.24,>=0.21.4 in /usr/local/lib/python3.6/dist-packages (from apache-beam==2.23.0->apache-flink) (0.23.6)\n",
            "Requirement already satisfied: grpcio<2,>=1.29.0 in /usr/local/lib/python3.6/dist-packages (from apache-beam==2.23.0->apache-flink) (1.32.0)\n",
            "Requirement already satisfied: protobuf<4,>=3.5.0.post1 in /usr/local/lib/python3.6/dist-packages (from apache-beam==2.23.0->apache-flink) (3.12.4)\n",
            "Requirement already satisfied: pydot<2,>=1.2.0 in /usr/local/lib/python3.6/dist-packages (from apache-beam==2.23.0->apache-flink) (1.3.0)\n",
            "Requirement already satisfied: hdfs<3.0.0,>=2.1.0 in /usr/local/lib/python3.6/dist-packages (from apache-beam==2.23.0->apache-flink) (2.6.0)\n",
            "Requirement already satisfied: pymongo<4.0.0,>=3.8.0 in /usr/local/lib/python3.6/dist-packages (from apache-beam==2.23.0->apache-flink) (3.11.3)\n",
            "Requirement already satisfied: crcmod<2.0,>=1.7 in /usr/local/lib/python3.6/dist-packages (from apache-beam==2.23.0->apache-flink) (1.7)\n",
            "Requirement already satisfied: typing-extensions<3.8.0,>=3.7.0 in /usr/local/lib/python3.6/dist-packages (from apache-beam==2.23.0->apache-flink) (3.7.4.3)\n",
            "Requirement already satisfied: httplib2<0.18.0,>=0.8 in /usr/local/lib/python3.6/dist-packages (from apache-beam==2.23.0->apache-flink) (0.17.4)\n",
            "Requirement already satisfied: dill<0.3.2,>=0.3.1.1 in /usr/local/lib/python3.6/dist-packages (from apache-beam==2.23.0->apache-flink) (0.3.1.1)\n",
            "Requirement already satisfied: oauth2client<4,>=2.0.1 in /usr/local/lib/python3.6/dist-packages (from apache-beam==2.23.0->apache-flink) (3.0.0)\n",
            "Requirement already satisfied: mock<3.0.0,>=1.0.1 in /usr/local/lib/python3.6/dist-packages (from apache-beam==2.23.0->apache-flink) (2.0.0)\n",
            "Requirement already satisfied: six>=1.5 in /usr/local/lib/python3.6/dist-packages (from python-dateutil==2.8.0->apache-flink) (1.15.0)\n",
            "Requirement already satisfied: setuptools in /usr/local/lib/python3.6/dist-packages (from protobuf<4,>=3.5.0.post1->apache-beam==2.23.0->apache-flink) (53.0.0)\n",
            "Requirement already satisfied: pyparsing>=2.1.4 in /usr/local/lib/python3.6/dist-packages (from pydot<2,>=1.2.0->apache-beam==2.23.0->apache-flink) (2.4.7)\n",
            "Requirement already satisfied: requests>=2.7.0 in /usr/local/lib/python3.6/dist-packages (from hdfs<3.0.0,>=2.1.0->apache-beam==2.23.0->apache-flink) (2.23.0)\n",
            "Requirement already satisfied: docopt in /usr/local/lib/python3.6/dist-packages (from hdfs<3.0.0,>=2.1.0->apache-beam==2.23.0->apache-flink) (0.6.2)\n",
            "Requirement already satisfied: pyasn1-modules>=0.0.5 in /usr/local/lib/python3.6/dist-packages (from oauth2client<4,>=2.0.1->apache-beam==2.23.0->apache-flink) (0.2.8)\n",
            "Requirement already satisfied: pyasn1>=0.1.7 in /usr/local/lib/python3.6/dist-packages (from oauth2client<4,>=2.0.1->apache-beam==2.23.0->apache-flink) (0.4.8)\n",
            "Requirement already satisfied: rsa>=3.1.4 in /usr/local/lib/python3.6/dist-packages (from oauth2client<4,>=2.0.1->apache-beam==2.23.0->apache-flink) (4.7)\n",
            "Requirement already satisfied: pbr>=0.11 in /usr/local/lib/python3.6/dist-packages (from mock<3.0.0,>=1.0.1->apache-beam==2.23.0->apache-flink) (5.5.1)\n",
            "Requirement already satisfied: urllib3!=1.25.0,!=1.25.1,<1.26,>=1.21.1 in /usr/local/lib/python3.6/dist-packages (from requests>=2.7.0->hdfs<3.0.0,>=2.1.0->apache-beam==2.23.0->apache-flink) (1.24.3)\n",
            "Requirement already satisfied: idna<3,>=2.5 in /usr/local/lib/python3.6/dist-packages (from requests>=2.7.0->hdfs<3.0.0,>=2.1.0->apache-beam==2.23.0->apache-flink) (2.10)\n",
            "Requirement already satisfied: certifi>=2017.4.17 in /usr/local/lib/python3.6/dist-packages (from requests>=2.7.0->hdfs<3.0.0,>=2.1.0->apache-beam==2.23.0->apache-flink) (2020.12.5)\n",
            "Requirement already satisfied: chardet<4,>=3.0.2 in /usr/local/lib/python3.6/dist-packages (from requests>=2.7.0->hdfs<3.0.0,>=2.1.0->apache-beam==2.23.0->apache-flink) (3.0.4)\n"
          ],
          "name": "stdout"
        }
      ]
    },
    {
      "cell_type": "markdown",
      "metadata": {
        "id": "bhFMNcgiMsIF"
      },
      "source": [
        "# New Section"
      ]
    },
    {
      "cell_type": "code",
      "metadata": {
        "id": "paZbbNdNwGgY",
        "colab": {
          "base_uri": "https://localhost:8080/",
          "height": 428
        },
        "outputId": "bc382a23-6016-4731-d1e6-cfaac4a485eb"
      },
      "source": [
        "import pandas as pd\r\n",
        "dataframe_netflix_titles = pd.read_csv('/content/worldometer_data.csv')\r\n",
        "# Keys\r\n",
        "print(\"The keys of the datasets are as follows:\")\r\n",
        "print(dataframe_netflix_titles.keys())\r\n",
        "# head\r\n",
        "print(\"The first five instances of the dataset are as follows:\")\r\n",
        "dataframe_netflix_titles.head(5)"
      ],
      "execution_count": 4,
      "outputs": [
        {
          "output_type": "stream",
          "text": [
            "The keys of the datasets are as follows:\n",
            "Index(['Country/Region', 'Continent', 'Population', 'TotalCases', 'NewCases',\n",
            "       'TotalDeaths', 'NewDeaths', 'TotalRecovered', 'NewRecovered',\n",
            "       'ActiveCases', 'Serious,Critical', 'Tot Cases/1M pop', 'Deaths/1M pop',\n",
            "       'TotalTests', 'Tests/1M pop', 'WHO Region'],\n",
            "      dtype='object')\n",
            "The first five instances of the dataset are as follows:\n"
          ],
          "name": "stdout"
        },
        {
          "output_type": "execute_result",
          "data": {
            "text/html": [
              "<div>\n",
              "<style scoped>\n",
              "    .dataframe tbody tr th:only-of-type {\n",
              "        vertical-align: middle;\n",
              "    }\n",
              "\n",
              "    .dataframe tbody tr th {\n",
              "        vertical-align: top;\n",
              "    }\n",
              "\n",
              "    .dataframe thead th {\n",
              "        text-align: right;\n",
              "    }\n",
              "</style>\n",
              "<table border=\"1\" class=\"dataframe\">\n",
              "  <thead>\n",
              "    <tr style=\"text-align: right;\">\n",
              "      <th></th>\n",
              "      <th>Country/Region</th>\n",
              "      <th>Continent</th>\n",
              "      <th>Population</th>\n",
              "      <th>TotalCases</th>\n",
              "      <th>NewCases</th>\n",
              "      <th>TotalDeaths</th>\n",
              "      <th>NewDeaths</th>\n",
              "      <th>TotalRecovered</th>\n",
              "      <th>NewRecovered</th>\n",
              "      <th>ActiveCases</th>\n",
              "      <th>Serious,Critical</th>\n",
              "      <th>Tot Cases/1M pop</th>\n",
              "      <th>Deaths/1M pop</th>\n",
              "      <th>TotalTests</th>\n",
              "      <th>Tests/1M pop</th>\n",
              "      <th>WHO Region</th>\n",
              "    </tr>\n",
              "  </thead>\n",
              "  <tbody>\n",
              "    <tr>\n",
              "      <th>0</th>\n",
              "      <td>USA</td>\n",
              "      <td>North America</td>\n",
              "      <td>3.311981e+08</td>\n",
              "      <td>5032179</td>\n",
              "      <td>NaN</td>\n",
              "      <td>162804.0</td>\n",
              "      <td>NaN</td>\n",
              "      <td>2576668.0</td>\n",
              "      <td>NaN</td>\n",
              "      <td>2292707.0</td>\n",
              "      <td>18296.0</td>\n",
              "      <td>15194.0</td>\n",
              "      <td>492.0</td>\n",
              "      <td>63139605.0</td>\n",
              "      <td>190640.0</td>\n",
              "      <td>Americas</td>\n",
              "    </tr>\n",
              "    <tr>\n",
              "      <th>1</th>\n",
              "      <td>Brazil</td>\n",
              "      <td>South America</td>\n",
              "      <td>2.127107e+08</td>\n",
              "      <td>2917562</td>\n",
              "      <td>NaN</td>\n",
              "      <td>98644.0</td>\n",
              "      <td>NaN</td>\n",
              "      <td>2047660.0</td>\n",
              "      <td>NaN</td>\n",
              "      <td>771258.0</td>\n",
              "      <td>8318.0</td>\n",
              "      <td>13716.0</td>\n",
              "      <td>464.0</td>\n",
              "      <td>13206188.0</td>\n",
              "      <td>62085.0</td>\n",
              "      <td>Americas</td>\n",
              "    </tr>\n",
              "    <tr>\n",
              "      <th>2</th>\n",
              "      <td>India</td>\n",
              "      <td>Asia</td>\n",
              "      <td>1.381345e+09</td>\n",
              "      <td>2025409</td>\n",
              "      <td>NaN</td>\n",
              "      <td>41638.0</td>\n",
              "      <td>NaN</td>\n",
              "      <td>1377384.0</td>\n",
              "      <td>NaN</td>\n",
              "      <td>606387.0</td>\n",
              "      <td>8944.0</td>\n",
              "      <td>1466.0</td>\n",
              "      <td>30.0</td>\n",
              "      <td>22149351.0</td>\n",
              "      <td>16035.0</td>\n",
              "      <td>South-EastAsia</td>\n",
              "    </tr>\n",
              "    <tr>\n",
              "      <th>3</th>\n",
              "      <td>Russia</td>\n",
              "      <td>Europe</td>\n",
              "      <td>1.459409e+08</td>\n",
              "      <td>871894</td>\n",
              "      <td>NaN</td>\n",
              "      <td>14606.0</td>\n",
              "      <td>NaN</td>\n",
              "      <td>676357.0</td>\n",
              "      <td>NaN</td>\n",
              "      <td>180931.0</td>\n",
              "      <td>2300.0</td>\n",
              "      <td>5974.0</td>\n",
              "      <td>100.0</td>\n",
              "      <td>29716907.0</td>\n",
              "      <td>203623.0</td>\n",
              "      <td>Europe</td>\n",
              "    </tr>\n",
              "    <tr>\n",
              "      <th>4</th>\n",
              "      <td>South Africa</td>\n",
              "      <td>Africa</td>\n",
              "      <td>5.938157e+07</td>\n",
              "      <td>538184</td>\n",
              "      <td>NaN</td>\n",
              "      <td>9604.0</td>\n",
              "      <td>NaN</td>\n",
              "      <td>387316.0</td>\n",
              "      <td>NaN</td>\n",
              "      <td>141264.0</td>\n",
              "      <td>539.0</td>\n",
              "      <td>9063.0</td>\n",
              "      <td>162.0</td>\n",
              "      <td>3149807.0</td>\n",
              "      <td>53044.0</td>\n",
              "      <td>Africa</td>\n",
              "    </tr>\n",
              "  </tbody>\n",
              "</table>\n",
              "</div>"
            ],
            "text/plain": [
              "  Country/Region      Continent  ...  Tests/1M pop      WHO Region\n",
              "0            USA  North America  ...      190640.0        Americas\n",
              "1         Brazil  South America  ...       62085.0        Americas\n",
              "2          India           Asia  ...       16035.0  South-EastAsia\n",
              "3         Russia         Europe  ...      203623.0          Europe\n",
              "4   South Africa         Africa  ...       53044.0          Africa\n",
              "\n",
              "[5 rows x 16 columns]"
            ]
          },
          "metadata": {
            "tags": []
          },
          "execution_count": 4
        }
      ]
    },
    {
      "cell_type": "code",
      "metadata": {
        "colab": {
          "base_uri": "https://localhost:8080/",
          "height": 278
        },
        "id": "wv57ZhUgIJKo",
        "outputId": "81f14afb-ad08-40cb-c13a-b4efd6191dc5"
      },
      "source": [
        "import matplotlib.pyplot as plt\r\n",
        "import numpy as np\r\n",
        "plt.scatter(y=dataframe_netflix_titles[\"TotalDeaths\"], x=dataframe_netflix_titles[\"TotalRecovered\"],  marker=\"+\", c=\"green\") \r\n",
        "plt.show()"
      ],
      "execution_count": 6,
      "outputs": [
        {
          "output_type": "display_data",
          "data": {
            "image/png": "[encoded data removed]",
            "text/plain": [
              "<Figure size 432x288 with 1 Axes>"
            ]
          },
          "metadata": {
            "tags": [],
            "needs_background": "light"
          }
        }
      ]
    },
    {
      "cell_type": "code",
      "metadata": {
        "colab": {
          "base_uri": "https://localhost:8080/",
          "height": 263
        },
        "id": "Ffng4YQixjDB",
        "outputId": "830f86c8-e891-4add-d10a-21f6dea6fe4c"
      },
      "source": [
        "import matplotlib.pyplot as plt\r\n",
        "import numpy as np\r\n",
        "df2 = pd.DataFrame(np.random.rand(10, 2), columns=[ \"TotalDeaths\", \"TotalRecovered\"])\r\n",
        "df2.plot.bar();"
      ],
      "execution_count": 12,
      "outputs": [
        {
          "output_type": "display_data",
          "data": {
            "image/png": "[encoded data removed]",
            "text/plain": [
              "<Figure size 432x288 with 1 Axes>"
            ]
          },
          "metadata": {
            "tags": [],
            "needs_background": "light"
          }
        }
      ]
    }
  ]
}